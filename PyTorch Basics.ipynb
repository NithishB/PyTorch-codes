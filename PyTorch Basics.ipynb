{
 "cells": [
  {
   "cell_type": "code",
   "execution_count": 32,
   "metadata": {},
   "outputs": [],
   "source": [
    "import torch"
   ]
  },
  {
   "cell_type": "markdown",
   "metadata": {},
   "source": [
    "### Pytorch tensors"
   ]
  },
  {
   "cell_type": "code",
   "execution_count": 37,
   "metadata": {},
   "outputs": [],
   "source": [
    "x = torch.rand(5,3,2,5,dtype=torch.float32)"
   ]
  },
  {
   "cell_type": "code",
   "execution_count": 38,
   "metadata": {},
   "outputs": [
    {
     "name": "stdout",
     "output_type": "stream",
     "text": [
      "tensor([[[[0.1460, 0.8825, 0.6438, 0.4336, 0.1911],\n",
      "          [0.9812, 0.5310, 0.0838, 0.2805, 0.2692]],\n",
      "\n",
      "         [[0.0802, 0.2300, 0.9589, 0.2150, 0.0416],\n",
      "          [0.6464, 0.6518, 0.9000, 0.6495, 0.4209]],\n",
      "\n",
      "         [[0.6109, 0.2657, 0.5288, 0.1069, 0.5197],\n",
      "          [0.2258, 0.8225, 0.7884, 0.9494, 0.6119]]],\n",
      "\n",
      "\n",
      "        [[[0.5528, 0.0561, 0.9091, 0.6739, 0.6280],\n",
      "          [0.6519, 0.5211, 0.7641, 0.1716, 0.0120]],\n",
      "\n",
      "         [[0.4496, 0.3928, 0.5784, 0.5843, 0.9224],\n",
      "          [0.7946, 0.1475, 0.8063, 0.1743, 0.8667]],\n",
      "\n",
      "         [[0.6172, 0.7934, 0.1816, 0.3671, 0.2775],\n",
      "          [0.0714, 0.4820, 0.0803, 0.0004, 0.4915]]],\n",
      "\n",
      "\n",
      "        [[[0.4551, 0.9095, 0.8701, 0.9869, 0.3168],\n",
      "          [0.7442, 0.6234, 0.5293, 0.3613, 0.1558]],\n",
      "\n",
      "         [[0.9670, 0.9005, 0.3199, 0.3455, 0.6901],\n",
      "          [0.7098, 0.6788, 0.8084, 0.9827, 0.8966]],\n",
      "\n",
      "         [[0.4619, 0.1768, 0.6093, 0.8741, 0.8569],\n",
      "          [0.8684, 0.2695, 0.9154, 0.7670, 0.1191]]],\n",
      "\n",
      "\n",
      "        [[[0.8838, 0.3115, 0.5896, 0.6917, 0.9853],\n",
      "          [0.7808, 0.0413, 0.5014, 0.3196, 0.9574]],\n",
      "\n",
      "         [[0.9286, 0.1605, 0.3491, 0.6746, 0.1636],\n",
      "          [0.8759, 0.2903, 0.9379, 0.9570, 0.4351]],\n",
      "\n",
      "         [[0.8679, 0.7181, 0.8712, 0.0204, 0.7841],\n",
      "          [0.1218, 0.0935, 0.4600, 0.3377, 0.1223]]],\n",
      "\n",
      "\n",
      "        [[[0.9531, 0.2802, 0.5711, 0.6201, 0.1017],\n",
      "          [0.8233, 0.9216, 0.2573, 0.9923, 0.1578]],\n",
      "\n",
      "         [[0.9447, 0.1976, 0.2164, 0.5778, 0.5618],\n",
      "          [0.6311, 0.6161, 0.5754, 0.6540, 0.1055]],\n",
      "\n",
      "         [[0.1199, 0.2752, 0.5670, 0.0864, 0.6870],\n",
      "          [0.3479, 0.0897, 0.8489, 0.7923, 0.6180]]]])\n"
     ]
    }
   ],
   "source": [
    "print(x)"
   ]
  },
  {
   "cell_type": "code",
   "execution_count": 41,
   "metadata": {},
   "outputs": [],
   "source": [
    "o = torch.ones(3,4)"
   ]
  },
  {
   "cell_type": "code",
   "execution_count": 42,
   "metadata": {},
   "outputs": [
    {
     "name": "stdout",
     "output_type": "stream",
     "text": [
      "tensor([[1., 1., 1., 1.],\n",
      "        [1., 1., 1., 1.],\n",
      "        [1., 1., 1., 1.]])\n"
     ]
    }
   ],
   "source": [
    "print(o)"
   ]
  },
  {
   "cell_type": "code",
   "execution_count": 43,
   "metadata": {},
   "outputs": [],
   "source": [
    "t = torch.rand_like(o)"
   ]
  },
  {
   "cell_type": "code",
   "execution_count": 44,
   "metadata": {},
   "outputs": [
    {
     "name": "stdout",
     "output_type": "stream",
     "text": [
      "tensor([[0.8474, 0.6500, 0.4721, 0.1488],\n",
      "        [0.5955, 0.4330, 0.2187, 0.2151],\n",
      "        [0.2483, 0.4802, 0.1188, 0.4157]])\n"
     ]
    }
   ],
   "source": [
    "print(t)"
   ]
  },
  {
   "cell_type": "code",
   "execution_count": 45,
   "metadata": {},
   "outputs": [
    {
     "data": {
      "text/plain": [
       "(torch.Size([3, 4]), torch.Size([3, 4]), torch.Size([5, 3, 2, 5]))"
      ]
     },
     "execution_count": 45,
     "metadata": {},
     "output_type": "execute_result"
    }
   ],
   "source": [
    "t.size(), o.size(), x.size()"
   ]
  },
  {
   "cell_type": "markdown",
   "metadata": {},
   "source": [
    "### AutoGrad And Functions"
   ]
  },
  {
   "cell_type": "code",
   "execution_count": 29,
   "metadata": {},
   "outputs": [],
   "source": [
    "x = torch.rand(2,3,requires_grad=True)"
   ]
  },
  {
   "cell_type": "code",
   "execution_count": 30,
   "metadata": {},
   "outputs": [],
   "source": [
    "y = x + 2"
   ]
  },
  {
   "cell_type": "code",
   "execution_count": 31,
   "metadata": {},
   "outputs": [
    {
     "name": "stdout",
     "output_type": "stream",
     "text": [
      "tensor([[0.9969, 0.2313, 0.1235],\n",
      "        [0.8174, 0.3584, 0.0620]], requires_grad=True) \n",
      " tensor([[2.9969, 2.2313, 2.1235],\n",
      "        [2.8174, 2.3584, 2.0620]], grad_fn=<AddBackward>)\n"
     ]
    }
   ],
   "source": [
    "print(x,\"\\n\",y)"
   ]
  },
  {
   "cell_type": "code",
   "execution_count": 12,
   "metadata": {},
   "outputs": [],
   "source": [
    "z = y * y * 3"
   ]
  },
  {
   "cell_type": "code",
   "execution_count": 13,
   "metadata": {},
   "outputs": [],
   "source": [
    "out = z.mean()"
   ]
  },
  {
   "cell_type": "code",
   "execution_count": 14,
   "metadata": {},
   "outputs": [
    {
     "name": "stdout",
     "output_type": "stream",
     "text": [
      "tensor([[23.7908, 22.7481, 19.1191],\n",
      "        [12.0523, 12.4505, 20.1659]], grad_fn=<MulBackward>) tensor(18.3878, grad_fn=<MeanBackward1>)\n"
     ]
    }
   ],
   "source": [
    "print(z, out)"
   ]
  },
  {
   "cell_type": "code",
   "execution_count": 15,
   "metadata": {},
   "outputs": [],
   "source": [
    "out.backward(retain_graph=True)"
   ]
  },
  {
   "cell_type": "code",
   "execution_count": 16,
   "metadata": {},
   "outputs": [
    {
     "data": {
      "text/plain": [
       "tensor([[2.8161, 2.7537, 2.5245],\n",
       "        [2.0044, 2.0372, 2.5927]])"
      ]
     },
     "execution_count": 16,
     "metadata": {},
     "output_type": "execute_result"
    }
   ],
   "source": [
    "x.grad"
   ]
  },
  {
   "cell_type": "code",
   "execution_count": 17,
   "metadata": {},
   "outputs": [],
   "source": [
    "z.backward(torch.rand_like(z), retain_graph=True)"
   ]
  },
  {
   "cell_type": "code",
   "execution_count": 18,
   "metadata": {},
   "outputs": [
    {
     "data": {
      "text/plain": [
       "tensor([[7.8184, 7.9055, 5.5360],\n",
       "        [5.4508, 3.7848, 2.6698]])"
      ]
     },
     "execution_count": 18,
     "metadata": {},
     "output_type": "execute_result"
    }
   ],
   "source": [
    "x.grad"
   ]
  },
  {
   "cell_type": "code",
   "execution_count": null,
   "metadata": {},
   "outputs": [],
   "source": []
  }
 ],
 "metadata": {
  "kernelspec": {
   "display_name": "Python 3",
   "language": "python",
   "name": "python3"
  },
  "language_info": {
   "codemirror_mode": {
    "name": "ipython",
    "version": 3
   },
   "file_extension": ".py",
   "mimetype": "text/x-python",
   "name": "python",
   "nbconvert_exporter": "python",
   "pygments_lexer": "ipython3",
   "version": "3.6.6"
  }
 },
 "nbformat": 4,
 "nbformat_minor": 2
}
