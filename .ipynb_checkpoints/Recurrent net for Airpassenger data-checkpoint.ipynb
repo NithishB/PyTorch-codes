{
 "cells": [
  {
   "cell_type": "code",
   "execution_count": 1,
   "metadata": {},
   "outputs": [],
   "source": [
    "import numpy as np\n",
    "import pandas as pd\n",
    "import torch\n",
    "import torch.nn as nn\n",
    "import torch.nn.functional as F"
   ]
  },
  {
   "cell_type": "code",
   "execution_count": 4,
   "metadata": {},
   "outputs": [],
   "source": [
    "data = pd.read_csv(\"../Python/Datasets/AirPassengers.csv\")['#Passengers']"
   ]
  },
  {
   "cell_type": "code",
   "execution_count": 8,
   "metadata": {},
   "outputs": [],
   "source": [
    "d = pd.concat([data, data.shift(-1), data.shift(-2), data.shift(-3), data.shift(-4), data.shift(-5)], axis=1)[:-5]\n",
    "d.columns = ['t-5','t-4','t-3','t-2','t-1','t']"
   ]
  },
  {
   "cell_type": "code",
   "execution_count": 10,
   "metadata": {},
   "outputs": [],
   "source": [
    "split = int(0.7*d.shape[0])\n",
    "input_train, output_train = d.values[:split,:-1], d.values[:split,-1]\n",
    "input_test, output_test = d.values[split:,:-1], d.values[split:,-1]"
   ]
  },
  {
   "cell_type": "code",
   "execution_count": null,
   "metadata": {},
   "outputs": [],
   "source": [
    "class LSTM_NET(nn.Module):\n",
    "    \n",
    "    def __init__(self, inp_dim, out_dim, hid_dim):\n",
    "        \n",
    "        self.lstm1 = nn.LSTM(input_size=inp_dim, hidden_size=512, num_layers=2, bias=True)\n",
    "        \n",
    "    def forward()"
   ]
  }
 ],
 "metadata": {
  "kernelspec": {
   "display_name": "Python 3",
   "language": "python",
   "name": "python3"
  },
  "language_info": {
   "codemirror_mode": {
    "name": "ipython",
    "version": 3
   },
   "file_extension": ".py",
   "mimetype": "text/x-python",
   "name": "python",
   "nbconvert_exporter": "python",
   "pygments_lexer": "ipython3",
   "version": "3.6.6"
  }
 },
 "nbformat": 4,
 "nbformat_minor": 2
}
