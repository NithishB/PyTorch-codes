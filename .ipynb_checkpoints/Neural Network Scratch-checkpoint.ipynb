{
 "cells": [
  {
   "cell_type": "code",
   "execution_count": 1,
   "metadata": {},
   "outputs": [],
   "source": [
    "import torch"
   ]
  },
  {
   "cell_type": "code",
   "execution_count": 2,
   "metadata": {},
   "outputs": [],
   "source": [
    "class NN():\n",
    "    \n",
    "    def __init__(self, inp_dim, hid_dim, out_dim):\n",
    "        \n",
    "        self.W, self.B = [],[]\n",
    "        \n",
    "        self.W.append(torch.rand(inp_dim,hid_dim[0]))\n",
    "        self.B.append(torch.rand(1,hid_dim[0]))\n",
    "        \n",
    "        for i in range(1,len(hid_dim)):\n",
    "            self.W.append(torch.rand(hid_dim[i-1], hid_dim[i]))\n",
    "            self.B.append(torch.rand(1, hid_dim[i]))\n",
    "        \n",
    "        self.W.append(torch.rand(hid_dim[-1],out_dim))\n",
    "        self.B.append(torch.rand(1,out_dim))\n",
    "        \n",
    "    def PRelu(self, t, alpha=0.01, grad=False):\n",
    "        \n",
    "        if(grad):\n",
    "            return ((torch.abs(t)+t)/(2*t)) + alpha*((torch.abs(t)-t)/(2*t))\n",
    "        return ((torch.abs(t)+t)/2)+(-alpha*(torch.abs(t)-t)/2)\n",
    "        \n",
    "    def forward(self, i_data):\n",
    "        \n",
    "        self.L = []\n",
    "        \n",
    "        self.L.append(self.PRelu(torch.add(torch.matmul(i_data,self.W[0]),self.B[0]), alpha=0.2))\n",
    "        \n",
    "        for i in range(1,len(self.W)):\n",
    "            self.L.append(self.PRelu(torch.add(torch.matmul(self.L[i-1],self.W[i]),self.B[i]), alpha=0.2))\n",
    "            \n",
    "    def backward(self, i_data, o_data, lr=0.001):\n",
    "        \n",
    "        self.L_del,self.L_err = [],[]\n",
    "        \n",
    "        n = len(self.W)-1\n",
    "        self.L_err.append(self.L[-1]-o_data)\n",
    "        self.L_del.append(self.L_err[0]*self.PRelu(self.L[-1], grad=True))\n",
    "        \n",
    "        for i in range(0,n):\n",
    "            self.L_err.append(torch.matmul(self.L_del[i],torch.t(self.W[n-i])))\n",
    "            self.L_del.append(self.L_err[i+1] * self.PRelu(self.L[n-i-1], grad=True))\n",
    "            \n",
    "        self.W[0] += lr*torch.matmul(torch.t(i_data),self.L_del[n])\n",
    "        self.B[0] += lr*self.L_del[n]"
   ]
  },
  {
   "cell_type": "code",
   "execution_count": 3,
   "metadata": {},
   "outputs": [],
   "source": [
    "model = NN(3,[3,4],1)"
   ]
  },
  {
   "cell_type": "code",
   "execution_count": 4,
   "metadata": {},
   "outputs": [],
   "source": [
    "i_data = torch.rand(1,3)\n",
    "o_data = torch.rand(1)"
   ]
  },
  {
   "cell_type": "code",
   "execution_count": 5,
   "metadata": {},
   "outputs": [],
   "source": [
    "model.forward(i_data)"
   ]
  },
  {
   "cell_type": "code",
   "execution_count": null,
   "metadata": {},
   "outputs": [],
   "source": []
  }
 ],
 "metadata": {
  "kernelspec": {
   "display_name": "Python 3",
   "language": "python",
   "name": "python3"
  },
  "language_info": {
   "codemirror_mode": {
    "name": "ipython",
    "version": 3
   },
   "file_extension": ".py",
   "mimetype": "text/x-python",
   "name": "python",
   "nbconvert_exporter": "python",
   "pygments_lexer": "ipython3",
   "version": "3.6.6"
  }
 },
 "nbformat": 4,
 "nbformat_minor": 2
}
